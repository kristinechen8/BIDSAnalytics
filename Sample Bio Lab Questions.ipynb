{
 "cells": [
  {
   "cell_type": "code",
   "execution_count": 2,
   "metadata": {},
   "outputs": [
    {
     "data": {
      "text/html": [
       "<table border=\"1\" class=\"dataframe\">\n",
       "    <thead>\n",
       "        <tr>\n",
       "            <th>Station</th> <th>Heart Rate</th> <th>Ps</th> <th>Pd</th>\n",
       "        </tr>\n",
       "    </thead>\n",
       "    <tbody>\n",
       "        <tr>\n",
       "            <td>1      </td> <td>[0.]      </td> <td>[0.]</td> <td>[0.]</td>\n",
       "        </tr>\n",
       "        <tr>\n",
       "            <td>2      </td> <td>[0.]      </td> <td>[0.]</td> <td>[0.]</td>\n",
       "        </tr>\n",
       "        <tr>\n",
       "            <td>3      </td> <td>[0.]      </td> <td>[0.]</td> <td>[0.]</td>\n",
       "        </tr>\n",
       "        <tr>\n",
       "            <td>4      </td> <td>[0.]      </td> <td>[0.]</td> <td>[0.]</td>\n",
       "        </tr>\n",
       "        <tr>\n",
       "            <td>5      </td> <td>[0.]      </td> <td>[0.]</td> <td>[0.]</td>\n",
       "        </tr>\n",
       "        <tr>\n",
       "            <td>6      </td> <td>[0.]      </td> <td>[0.]</td> <td>[0.]</td>\n",
       "        </tr>\n",
       "        <tr>\n",
       "            <td>7      </td> <td>[0.]      </td> <td>[0.]</td> <td>[0.]</td>\n",
       "        </tr>\n",
       "        <tr>\n",
       "            <td>8      </td> <td>[0.]      </td> <td>[0.]</td> <td>[0.]</td>\n",
       "        </tr>\n",
       "        <tr>\n",
       "            <td>9      </td> <td>[0.]      </td> <td>[0.]</td> <td>[0.]</td>\n",
       "        </tr>\n",
       "        <tr>\n",
       "            <td>10     </td> <td>[0.]      </td> <td>[0.]</td> <td>[0.]</td>\n",
       "        </tr>\n",
       "    </tbody>\n",
       "</table>\n",
       "<p>... (4 rows omitted)</p>"
      ],
      "text/plain": [
       "Station | Heart Rate | Ps   | Pd\n",
       "1       | [0.]       | [0.] | [0.]\n",
       "2       | [0.]       | [0.] | [0.]\n",
       "3       | [0.]       | [0.] | [0.]\n",
       "4       | [0.]       | [0.] | [0.]\n",
       "5       | [0.]       | [0.] | [0.]\n",
       "6       | [0.]       | [0.] | [0.]\n",
       "7       | [0.]       | [0.] | [0.]\n",
       "8       | [0.]       | [0.] | [0.]\n",
       "9       | [0.]       | [0.] | [0.]\n",
       "10      | [0.]       | [0.] | [0.]\n",
       "... (4 rows omitted)"
      ]
     },
     "execution_count": 2,
     "metadata": {},
     "output_type": "execute_result"
    }
   ],
   "source": [
    "import numpy as np\n",
    "from datascience import *\n",
    "\n",
    "#SET UP TABLE \n",
    "stationArr = []\n",
    "for i in range(1, 15):\n",
    "    stationArr.append(\"Station \" + str(i))\n",
    "arr = list(range(1, 15))\n",
    "heartRate = np.zeros(shape=(14, 1))\n",
    "ps = np.zeros(shape=(14, 1))\n",
    "pd = np.zeros(shape=(14, 1))\n",
    "t = Table().with_columns(['Station', arr, 'Heart Rate', heartRate, 'Ps', ps, 'Pd', pd])\n",
    "t"
   ]
  },
  {
   "cell_type": "code",
   "execution_count": 3,
   "metadata": {},
   "outputs": [
    {
     "name": "stdout",
     "output_type": "stream",
     "text": [
      "RESTING TABLE:\n"
     ]
    },
    {
     "data": {
      "text/html": [
       "<table border=\"1\" class=\"dataframe\">\n",
       "    <thead>\n",
       "        <tr>\n",
       "            <th>Station</th> <th>Heart Rate</th> <th>Ps</th> <th>Pd</th> <th>Ventilation Rate</th> <th>O2 % expired</th> <th>O2 consumed</th> <th>CO2 % expired</th> <th>CO2 produced</th>\n",
       "        </tr>\n",
       "    </thead>\n",
       "    <tbody>\n",
       "        <tr>\n",
       "            <td>1      </td> <td>1         </td> <td>8   </td> <td>4   </td> <td>0               </td> <td>0           </td> <td>0          </td> <td>0            </td> <td>0           </td>\n",
       "        </tr>\n",
       "        <tr>\n",
       "            <td>2      </td> <td>0         </td> <td>0   </td> <td>0   </td> <td>0               </td> <td>0           </td> <td>0          </td> <td>0            </td> <td>0           </td>\n",
       "        </tr>\n",
       "        <tr>\n",
       "            <td>3      </td> <td>0         </td> <td>0   </td> <td>0   </td> <td>0               </td> <td>0           </td> <td>0          </td> <td>0            </td> <td>0           </td>\n",
       "        </tr>\n",
       "        <tr>\n",
       "            <td>4      </td> <td>0         </td> <td>0   </td> <td>0   </td> <td>0               </td> <td>0           </td> <td>0          </td> <td>0            </td> <td>0           </td>\n",
       "        </tr>\n",
       "        <tr>\n",
       "            <td>5      </td> <td>0         </td> <td>0   </td> <td>0   </td> <td>0               </td> <td>0           </td> <td>0          </td> <td>0            </td> <td>0           </td>\n",
       "        </tr>\n",
       "        <tr>\n",
       "            <td>6      </td> <td>0         </td> <td>0   </td> <td>0   </td> <td>0               </td> <td>0           </td> <td>0          </td> <td>0            </td> <td>0           </td>\n",
       "        </tr>\n",
       "        <tr>\n",
       "            <td>7      </td> <td>0         </td> <td>0   </td> <td>0   </td> <td>0               </td> <td>0           </td> <td>0          </td> <td>0            </td> <td>0           </td>\n",
       "        </tr>\n",
       "        <tr>\n",
       "            <td>8      </td> <td>0         </td> <td>0   </td> <td>0   </td> <td>0               </td> <td>0           </td> <td>0          </td> <td>0            </td> <td>0           </td>\n",
       "        </tr>\n",
       "        <tr>\n",
       "            <td>9      </td> <td>0         </td> <td>0   </td> <td>0   </td> <td>0               </td> <td>0           </td> <td>0          </td> <td>0            </td> <td>0           </td>\n",
       "        </tr>\n",
       "        <tr>\n",
       "            <td>10     </td> <td>0         </td> <td>0   </td> <td>0   </td> <td>0               </td> <td>0           </td> <td>0          </td> <td>0            </td> <td>0           </td>\n",
       "        </tr>\n",
       "    </tbody>\n",
       "</table>\n",
       "<p>... (4 rows omitted)</p>"
      ],
      "text/plain": [
       "Station | Heart Rate | Ps   | Pd   | Ventilation Rate | O2 % expired | O2 consumed | CO2 % expired | CO2 produced\n",
       "1       | 1          | 8    | 4    | 0                | 0            | 0           | 0             | 0\n",
       "2       | 0          | 0    | 0    | 0                | 0            | 0           | 0             | 0\n",
       "3       | 0          | 0    | 0    | 0                | 0            | 0           | 0             | 0\n",
       "4       | 0          | 0    | 0    | 0                | 0            | 0           | 0             | 0\n",
       "5       | 0          | 0    | 0    | 0                | 0            | 0           | 0             | 0\n",
       "6       | 0          | 0    | 0    | 0                | 0            | 0           | 0             | 0\n",
       "7       | 0          | 0    | 0    | 0                | 0            | 0           | 0             | 0\n",
       "8       | 0          | 0    | 0    | 0                | 0            | 0           | 0             | 0\n",
       "9       | 0          | 0    | 0    | 0                | 0            | 0           | 0             | 0\n",
       "10      | 0          | 0    | 0    | 0                | 0            | 0           | 0             | 0\n",
       "... (4 rows omitted)"
      ]
     },
     "execution_count": 3,
     "metadata": {},
     "output_type": "execute_result"
    }
   ],
   "source": [
    "# EXAMPLE 1- sample table from BIO 1A Physiology Lab\n",
    "\n",
    "# Resting Table Data\n",
    "\n",
    "# Set-Up\n",
    "print('RESTING TABLE:')\n",
    "rt = Table().with_columns(['Station', [], 'Heart Rate', [], 'Ps', [], 'Pd', [], 'Ventilation Rate', [], 'O2 % expired', [], 'O2 consumed', [], 'CO2 % expired', [], 'CO2 produced', []])\n",
    "\n",
    "# function to add a row with Station #, Heart Rate, Ps, Pd to the table\n",
    "def addRow(station, hr, ps, pd, ventRate, O2Exp, O2Cons, CO2Exp, CO2Prod):\n",
    "    rt.append([station, hr, ps, pd, ventRate, O2Exp, O2Cons, CO2Exp, CO2Prod])\n",
    "    \n",
    "# add data to table\n",
    "addRow(1, 1, 8, 4, 0, 0, 0, 0, 0)\n",
    "addRow(2, 0.0, 0, 0, 0, 0, 0, 0, 0)\n",
    "addRow(3, 0.0, 0, 0, 0, 0, 0, 0, 0)\n",
    "addRow(4, 0.0, 0, 0, 0, 0, 0, 0, 0)\n",
    "addRow(5, 0.0, 0, 0, 0, 0, 0, 0, 0)\n",
    "addRow(6, 0.0, 0, 0, 0, 0, 0, 0, 0)\n",
    "addRow(7, 0.0, 0, 0, 0, 0, 0, 0, 0)\n",
    "addRow(8, 0.0, 0, 0, 0, 0, 0, 0, 0)\n",
    "addRow(9, 0.0, 0, 0, 0, 0, 0, 0, 0)\n",
    "addRow(10, 0.0, 0, 0, 0, 0, 0, 0, 0)\n",
    "addRow(11, 0.0, 0, 0, 0, 0, 0, 0, 0)\n",
    "addRow(12, 0.0, 0, 0, 0, 0, 0, 0, 0)\n",
    "addRow(13, 0.0, 0, 0, 0, 0, 0, 0, 0)\n",
    "addRow(14, 0.0, 0, 0, 0, 0, 0, 0, 0)\n",
    "\n",
    "# display table\n",
    "rt"
   ]
  },
  {
   "cell_type": "code",
   "execution_count": 4,
   "metadata": {},
   "outputs": [
    {
     "name": "stdout",
     "output_type": "stream",
     "text": [
      "RESTING TABLE:\n"
     ]
    },
    {
     "name": "stderr",
     "output_type": "stream",
     "text": [
      "/srv/app/venv/lib/python3.6/site-packages/ipykernel_launcher.py:12: RuntimeWarning: invalid value encountered in true_divide\n",
      "  if sys.path[0] == '':\n"
     ]
    },
    {
     "data": {
      "text/html": [
       "<table border=\"1\" class=\"dataframe\">\n",
       "    <thead>\n",
       "        <tr>\n",
       "            <th>Station</th> <th>Heart Rate</th> <th>Ps</th> <th>Pd</th> <th>Ventilation Rate</th> <th>O2 % expired</th> <th>O2 consumed</th> <th>CO2 % expired</th> <th>CO2 produced</th> <th>CO</th> <th>MAP</th> <th>TPR</th> <th>SV</th>\n",
       "        </tr>\n",
       "    </thead>\n",
       "    <tbody>\n",
       "        <tr>\n",
       "            <td>1      </td> <td>1         </td> <td>8   </td> <td>4   </td> <td>0               </td> <td>0           </td> <td>0          </td> <td>0            </td> <td>0           </td> <td>6.8 </td> <td>5.33333</td> <td>0.784314</td> <td>4.68</td>\n",
       "        </tr>\n",
       "        <tr>\n",
       "            <td>2      </td> <td>0         </td> <td>0   </td> <td>0   </td> <td>0               </td> <td>0           </td> <td>0          </td> <td>0            </td> <td>0           </td> <td>0   </td> <td>0      </td> <td>nan     </td> <td>0   </td>\n",
       "        </tr>\n",
       "        <tr>\n",
       "            <td>3      </td> <td>0         </td> <td>0   </td> <td>0   </td> <td>0               </td> <td>0           </td> <td>0          </td> <td>0            </td> <td>0           </td> <td>0   </td> <td>0      </td> <td>nan     </td> <td>0   </td>\n",
       "        </tr>\n",
       "        <tr>\n",
       "            <td>4      </td> <td>0         </td> <td>0   </td> <td>0   </td> <td>0               </td> <td>0           </td> <td>0          </td> <td>0            </td> <td>0           </td> <td>0   </td> <td>0      </td> <td>nan     </td> <td>0   </td>\n",
       "        </tr>\n",
       "        <tr>\n",
       "            <td>5      </td> <td>0         </td> <td>0   </td> <td>0   </td> <td>0               </td> <td>0           </td> <td>0          </td> <td>0            </td> <td>0           </td> <td>0   </td> <td>0      </td> <td>nan     </td> <td>0   </td>\n",
       "        </tr>\n",
       "        <tr>\n",
       "            <td>6      </td> <td>0         </td> <td>0   </td> <td>0   </td> <td>0               </td> <td>0           </td> <td>0          </td> <td>0            </td> <td>0           </td> <td>0   </td> <td>0      </td> <td>nan     </td> <td>0   </td>\n",
       "        </tr>\n",
       "        <tr>\n",
       "            <td>7      </td> <td>0         </td> <td>0   </td> <td>0   </td> <td>0               </td> <td>0           </td> <td>0          </td> <td>0            </td> <td>0           </td> <td>0   </td> <td>0      </td> <td>nan     </td> <td>0   </td>\n",
       "        </tr>\n",
       "        <tr>\n",
       "            <td>8      </td> <td>0         </td> <td>0   </td> <td>0   </td> <td>0               </td> <td>0           </td> <td>0          </td> <td>0            </td> <td>0           </td> <td>0   </td> <td>0      </td> <td>nan     </td> <td>0   </td>\n",
       "        </tr>\n",
       "        <tr>\n",
       "            <td>9      </td> <td>0         </td> <td>0   </td> <td>0   </td> <td>0               </td> <td>0           </td> <td>0          </td> <td>0            </td> <td>0           </td> <td>0   </td> <td>0      </td> <td>nan     </td> <td>0   </td>\n",
       "        </tr>\n",
       "        <tr>\n",
       "            <td>10     </td> <td>0         </td> <td>0   </td> <td>0   </td> <td>0               </td> <td>0           </td> <td>0          </td> <td>0            </td> <td>0           </td> <td>0   </td> <td>0      </td> <td>nan     </td> <td>0   </td>\n",
       "        </tr>\n",
       "    </tbody>\n",
       "</table>\n",
       "<p>... (4 rows omitted)</p>"
      ],
      "text/plain": [
       "Station | Heart Rate | Ps   | Pd   | Ventilation Rate | O2 % expired | O2 consumed | CO2 % expired | CO2 produced | CO   | MAP     | TPR      | SV\n",
       "1       | 1          | 8    | 4    | 0                | 0            | 0           | 0             | 0            | 6.8  | 5.33333 | 0.784314 | 4.68\n",
       "2       | 0          | 0    | 0    | 0                | 0            | 0           | 0             | 0            | 0    | 0       | nan      | 0\n",
       "3       | 0          | 0    | 0    | 0                | 0            | 0           | 0             | 0            | 0    | 0       | nan      | 0\n",
       "4       | 0          | 0    | 0    | 0                | 0            | 0           | 0             | 0            | 0    | 0       | nan      | 0\n",
       "5       | 0          | 0    | 0    | 0                | 0            | 0           | 0             | 0            | 0    | 0       | nan      | 0\n",
       "6       | 0          | 0    | 0    | 0                | 0            | 0           | 0             | 0            | 0    | 0       | nan      | 0\n",
       "7       | 0          | 0    | 0    | 0                | 0            | 0           | 0             | 0            | 0    | 0       | nan      | 0\n",
       "8       | 0          | 0    | 0    | 0                | 0            | 0           | 0             | 0            | 0    | 0       | nan      | 0\n",
       "9       | 0          | 0    | 0    | 0                | 0            | 0           | 0             | 0            | 0    | 0       | nan      | 0\n",
       "10      | 0          | 0    | 0    | 0                | 0            | 0           | 0             | 0            | 0    | 0       | nan      | 0\n",
       "... (4 rows omitted)"
      ]
     },
     "execution_count": 4,
     "metadata": {},
     "output_type": "execute_result"
    }
   ],
   "source": [
    "# DO CALCULATIONS (Resting)- provided code to do necessary calculations with columns of information\n",
    "\n",
    "# calculate and add CO column\n",
    "coArr = rt.column('Heart Rate') * 1.7 * (rt.column('Ps') - rt.column('Pd'))\n",
    "rt = rt.with_column('CO', coArr)\n",
    "\n",
    "# calculate and add MAP column\n",
    "mapArr = (rt.column('Ps') - rt.column('Pd')) * 1/3 + rt.column('Pd')\n",
    "rt = rt.with_column('MAP', mapArr)\n",
    "\n",
    "# calculate and add TPR column\n",
    "tprArr = np.divide(rt.column('MAP'), rt.column('CO'))\n",
    "rt = rt.with_column('TPR', tprArr)\n",
    "\n",
    "# calculate and add SV column\n",
    "svArr = 1.17 * (rt.column('Ps') - rt.column('Pd'))\n",
    "rt = rt.with_column('SV', svArr)\n",
    "\n",
    "# display table with new added columns from calculations\n",
    "print('RESTING TABLE:')\n",
    "rt\n"
   ]
  },
  {
   "cell_type": "code",
   "execution_count": 5,
   "metadata": {},
   "outputs": [
    {
     "name": "stdout",
     "output_type": "stream",
     "text": [
      "AFTER EXERCISE TABLE:\n"
     ]
    },
    {
     "data": {
      "text/html": [
       "<table border=\"1\" class=\"dataframe\">\n",
       "    <thead>\n",
       "        <tr>\n",
       "            <th>Station</th> <th>Heart Rate</th> <th>Ps</th> <th>Pd</th> <th>Ventilation Rate</th> <th>O2 % expired</th> <th>O2 consumed</th> <th>CO2 % expired</th> <th>CO2 produced</th>\n",
       "        </tr>\n",
       "    </thead>\n",
       "    <tbody>\n",
       "        <tr>\n",
       "            <td>1      </td> <td>1         </td> <td>8   </td> <td>4   </td> <td>0               </td> <td>0           </td> <td>0          </td> <td>0            </td> <td>0           </td>\n",
       "        </tr>\n",
       "        <tr>\n",
       "            <td>2      </td> <td>0         </td> <td>0   </td> <td>0   </td> <td>0               </td> <td>0           </td> <td>0          </td> <td>0            </td> <td>0           </td>\n",
       "        </tr>\n",
       "        <tr>\n",
       "            <td>3      </td> <td>0         </td> <td>0   </td> <td>0   </td> <td>0               </td> <td>0           </td> <td>0          </td> <td>0            </td> <td>0           </td>\n",
       "        </tr>\n",
       "        <tr>\n",
       "            <td>4      </td> <td>0         </td> <td>0   </td> <td>0   </td> <td>0               </td> <td>0           </td> <td>0          </td> <td>0            </td> <td>0           </td>\n",
       "        </tr>\n",
       "        <tr>\n",
       "            <td>5      </td> <td>0         </td> <td>0   </td> <td>0   </td> <td>0               </td> <td>0           </td> <td>0          </td> <td>0            </td> <td>0           </td>\n",
       "        </tr>\n",
       "        <tr>\n",
       "            <td>6      </td> <td>0         </td> <td>0   </td> <td>0   </td> <td>0               </td> <td>0           </td> <td>0          </td> <td>0            </td> <td>0           </td>\n",
       "        </tr>\n",
       "        <tr>\n",
       "            <td>7      </td> <td>0         </td> <td>0   </td> <td>0   </td> <td>0               </td> <td>0           </td> <td>0          </td> <td>0            </td> <td>0           </td>\n",
       "        </tr>\n",
       "        <tr>\n",
       "            <td>8      </td> <td>0         </td> <td>0   </td> <td>0   </td> <td>0               </td> <td>0           </td> <td>0          </td> <td>0            </td> <td>0           </td>\n",
       "        </tr>\n",
       "        <tr>\n",
       "            <td>9      </td> <td>0         </td> <td>0   </td> <td>0   </td> <td>0               </td> <td>0           </td> <td>0          </td> <td>0            </td> <td>0           </td>\n",
       "        </tr>\n",
       "        <tr>\n",
       "            <td>10     </td> <td>0         </td> <td>0   </td> <td>0   </td> <td>0               </td> <td>0           </td> <td>0          </td> <td>0            </td> <td>0           </td>\n",
       "        </tr>\n",
       "    </tbody>\n",
       "</table>\n",
       "<p>... (4 rows omitted)</p>"
      ],
      "text/plain": [
       "Station | Heart Rate | Ps   | Pd   | Ventilation Rate | O2 % expired | O2 consumed | CO2 % expired | CO2 produced\n",
       "1       | 1          | 8    | 4    | 0                | 0            | 0           | 0             | 0\n",
       "2       | 0          | 0    | 0    | 0                | 0            | 0           | 0             | 0\n",
       "3       | 0          | 0    | 0    | 0                | 0            | 0           | 0             | 0\n",
       "4       | 0          | 0    | 0    | 0                | 0            | 0           | 0             | 0\n",
       "5       | 0          | 0    | 0    | 0                | 0            | 0           | 0             | 0\n",
       "6       | 0          | 0    | 0    | 0                | 0            | 0           | 0             | 0\n",
       "7       | 0          | 0    | 0    | 0                | 0            | 0           | 0             | 0\n",
       "8       | 0          | 0    | 0    | 0                | 0            | 0           | 0             | 0\n",
       "9       | 0          | 0    | 0    | 0                | 0            | 0           | 0             | 0\n",
       "10      | 0          | 0    | 0    | 0                | 0            | 0           | 0             | 0\n",
       "... (4 rows omitted)"
      ]
     },
     "execution_count": 5,
     "metadata": {},
     "output_type": "execute_result"
    }
   ],
   "source": [
    "# After Exercise Table Data\n",
    "\n",
    "# set-up table\n",
    "print('AFTER EXERCISE TABLE:')\n",
    "t = Table().with_columns(['Station', [], 'Heart Rate', [], 'Ps', [], 'Pd', [], 'Ventilation Rate', [], 'O2 % expired', [], 'O2 consumed', [], 'CO2 % expired', [], 'CO2 produced', []])\n",
    "\n",
    "# function to add a row to the table with:\n",
    "# Station #, Heart Rate, Ps, Pd, Ventilation Rate, O2 % in Expired Air, O2 Consumed, CO2 % in Expired Air, CO2 Produced\n",
    "def addRow(station, hr, ps, pd, ventRate, O2Exp, O2Cons, CO2Exp, CO2Prod):\n",
    "    t.append([station, hr, ps, pd, ventRate, O2Exp, O2Cons, CO2Exp, CO2Prod])\n",
    "    \n",
    "# student fills in table with data using above function\n",
    "addRow(1, 1, 8, 4, 0, 0, 0, 0, 0)\n",
    "addRow(2, 0.0, 0, 0, 0, 0, 0, 0, 0)\n",
    "addRow(3, 0.0, 0, 0, 0, 0, 0, 0, 0)\n",
    "addRow(4, 0.0, 0, 0, 0, 0, 0, 0, 0)\n",
    "addRow(5, 0.0, 0, 0, 0, 0, 0, 0, 0)\n",
    "addRow(6, 0.0, 0, 0, 0, 0, 0, 0, 0)\n",
    "addRow(7, 0.0, 0, 0, 0, 0, 0, 0, 0)\n",
    "addRow(8, 0.0, 0, 0, 0, 0, 0, 0, 0)\n",
    "addRow(9, 0.0, 0, 0, 0, 0, 0, 0, 0)\n",
    "addRow(10, 0.0, 0, 0, 0, 0, 0, 0, 0)\n",
    "addRow(11, 0.0, 0, 0, 0, 0, 0, 0, 0)\n",
    "addRow(12, 0.0, 0, 0, 0, 0, 0, 0, 0)\n",
    "addRow(13, 0.0, 0, 0, 0, 0, 0, 0, 0)\n",
    "addRow(14, 0.0, 0, 0, 0, 0, 0, 0, 0)\n",
    "\n",
    "# display table\n",
    "t"
   ]
  },
  {
   "cell_type": "code",
   "execution_count": 6,
   "metadata": {},
   "outputs": [
    {
     "name": "stderr",
     "output_type": "stream",
     "text": [
      "/srv/app/venv/lib/python3.6/site-packages/ipykernel_launcher.py:12: RuntimeWarning: invalid value encountered in true_divide\n",
      "  if sys.path[0] == '':\n"
     ]
    },
    {
     "data": {
      "text/html": [
       "<table border=\"1\" class=\"dataframe\">\n",
       "    <thead>\n",
       "        <tr>\n",
       "            <th>Station</th> <th>Heart Rate</th> <th>Ps</th> <th>Pd</th> <th>Ventilation Rate</th> <th>O2 % expired</th> <th>O2 consumed</th> <th>CO2 % expired</th> <th>CO2 produced</th> <th>CO</th> <th>MAP</th> <th>TPR</th> <th>SV</th>\n",
       "        </tr>\n",
       "    </thead>\n",
       "    <tbody>\n",
       "        <tr>\n",
       "            <td>1      </td> <td>1         </td> <td>8   </td> <td>4   </td> <td>0               </td> <td>0           </td> <td>0          </td> <td>0            </td> <td>0           </td> <td>6.8 </td> <td>5.33333</td> <td>0.784314</td> <td>4.68</td>\n",
       "        </tr>\n",
       "        <tr>\n",
       "            <td>2      </td> <td>0         </td> <td>0   </td> <td>0   </td> <td>0               </td> <td>0           </td> <td>0          </td> <td>0            </td> <td>0           </td> <td>0   </td> <td>0      </td> <td>nan     </td> <td>0   </td>\n",
       "        </tr>\n",
       "        <tr>\n",
       "            <td>3      </td> <td>0         </td> <td>0   </td> <td>0   </td> <td>0               </td> <td>0           </td> <td>0          </td> <td>0            </td> <td>0           </td> <td>0   </td> <td>0      </td> <td>nan     </td> <td>0   </td>\n",
       "        </tr>\n",
       "        <tr>\n",
       "            <td>4      </td> <td>0         </td> <td>0   </td> <td>0   </td> <td>0               </td> <td>0           </td> <td>0          </td> <td>0            </td> <td>0           </td> <td>0   </td> <td>0      </td> <td>nan     </td> <td>0   </td>\n",
       "        </tr>\n",
       "        <tr>\n",
       "            <td>5      </td> <td>0         </td> <td>0   </td> <td>0   </td> <td>0               </td> <td>0           </td> <td>0          </td> <td>0            </td> <td>0           </td> <td>0   </td> <td>0      </td> <td>nan     </td> <td>0   </td>\n",
       "        </tr>\n",
       "        <tr>\n",
       "            <td>6      </td> <td>0         </td> <td>0   </td> <td>0   </td> <td>0               </td> <td>0           </td> <td>0          </td> <td>0            </td> <td>0           </td> <td>0   </td> <td>0      </td> <td>nan     </td> <td>0   </td>\n",
       "        </tr>\n",
       "        <tr>\n",
       "            <td>7      </td> <td>0         </td> <td>0   </td> <td>0   </td> <td>0               </td> <td>0           </td> <td>0          </td> <td>0            </td> <td>0           </td> <td>0   </td> <td>0      </td> <td>nan     </td> <td>0   </td>\n",
       "        </tr>\n",
       "        <tr>\n",
       "            <td>8      </td> <td>0         </td> <td>0   </td> <td>0   </td> <td>0               </td> <td>0           </td> <td>0          </td> <td>0            </td> <td>0           </td> <td>0   </td> <td>0      </td> <td>nan     </td> <td>0   </td>\n",
       "        </tr>\n",
       "        <tr>\n",
       "            <td>9      </td> <td>0         </td> <td>0   </td> <td>0   </td> <td>0               </td> <td>0           </td> <td>0          </td> <td>0            </td> <td>0           </td> <td>0   </td> <td>0      </td> <td>nan     </td> <td>0   </td>\n",
       "        </tr>\n",
       "        <tr>\n",
       "            <td>10     </td> <td>0         </td> <td>0   </td> <td>0   </td> <td>0               </td> <td>0           </td> <td>0          </td> <td>0            </td> <td>0           </td> <td>0   </td> <td>0      </td> <td>nan     </td> <td>0   </td>\n",
       "        </tr>\n",
       "    </tbody>\n",
       "</table>\n",
       "<p>... (4 rows omitted)</p>"
      ],
      "text/plain": [
       "Station | Heart Rate | Ps   | Pd   | Ventilation Rate | O2 % expired | O2 consumed | CO2 % expired | CO2 produced | CO   | MAP     | TPR      | SV\n",
       "1       | 1          | 8    | 4    | 0                | 0            | 0           | 0             | 0            | 6.8  | 5.33333 | 0.784314 | 4.68\n",
       "2       | 0          | 0    | 0    | 0                | 0            | 0           | 0             | 0            | 0    | 0       | nan      | 0\n",
       "3       | 0          | 0    | 0    | 0                | 0            | 0           | 0             | 0            | 0    | 0       | nan      | 0\n",
       "4       | 0          | 0    | 0    | 0                | 0            | 0           | 0             | 0            | 0    | 0       | nan      | 0\n",
       "5       | 0          | 0    | 0    | 0                | 0            | 0           | 0             | 0            | 0    | 0       | nan      | 0\n",
       "6       | 0          | 0    | 0    | 0                | 0            | 0           | 0             | 0            | 0    | 0       | nan      | 0\n",
       "7       | 0          | 0    | 0    | 0                | 0            | 0           | 0             | 0            | 0    | 0       | nan      | 0\n",
       "8       | 0          | 0    | 0    | 0                | 0            | 0           | 0             | 0            | 0    | 0       | nan      | 0\n",
       "9       | 0          | 0    | 0    | 0                | 0            | 0           | 0             | 0            | 0    | 0       | nan      | 0\n",
       "10      | 0          | 0    | 0    | 0                | 0            | 0           | 0             | 0            | 0    | 0       | nan      | 0\n",
       "... (4 rows omitted)"
      ]
     },
     "execution_count": 6,
     "metadata": {},
     "output_type": "execute_result"
    }
   ],
   "source": [
    "# DO CALCULATIONS (After Exercise)- provided code to do necessary calculations with columns of information\n",
    "\n",
    "# calculate and add CO column\n",
    "coArr = rt.column('Heart Rate') * 1.7 * (rt.column('Ps') - rt.column('Pd'))\n",
    "rt = rt.with_column('CO', coArr)\n",
    "\n",
    "# calculate and add MAP column\n",
    "mapArr = (rt.column('Ps') - rt.column('Pd')) * 1/3 + rt.column('Pd')\n",
    "rt = rt.with_column('MAP', mapArr)\n",
    "\n",
    "# calculate and add TPR column\n",
    "tprArr = np.divide(rt.column('MAP'), rt.column('CO'))\n",
    "rt = rt.with_column('TPR', tprArr)\n",
    "\n",
    "# calculate and add SV column\n",
    "svArr = 1.17 * (rt.column('Ps') - rt.column('Pd'))\n",
    "rt = rt.with_column('SV', svArr)\n",
    "\n",
    "# display table with new added columns from calculations\n",
    "rt\n"
   ]
  },
  {
   "cell_type": "code",
   "execution_count": 14,
   "metadata": {},
   "outputs": [
    {
     "data": {
      "text/html": [
       "<table border=\"1\" class=\"dataframe\">\n",
       "    <thead>\n",
       "        <tr>\n",
       "            <th>Solvent</th> <th>Solute</th> <th>Predict</th> <th>Observations</th>\n",
       "        </tr>\n",
       "    </thead>\n",
       "    <tbody>\n",
       "        <tr>\n",
       "            <td>benzoic acid</td> <td>disobutylmine (9 drops) </td> <td>not miscible</td> <td>no change                        </td>\n",
       "        </tr>\n",
       "        <tr>\n",
       "            <td>benzoic acid</td> <td>disobutylmine (9 drops) </td> <td>miscible    </td> <td>benzoic acid starting to dissolve</td>\n",
       "        </tr>\n",
       "        <tr>\n",
       "            <td>benzoic acid</td> <td>discobutylmine (9 drops)</td> <td>miscible    </td> <td>mostly dissolved, clear, liquidy </td>\n",
       "        </tr>\n",
       "    </tbody>\n",
       "</table>"
      ],
      "text/plain": [
       "Solvent      | Solute                   | Predict      | Observations\n",
       "benzoic acid | disobutylmine (9 drops)  | not miscible | no change\n",
       "benzoic acid | disobutylmine (9 drops)  | miscible     | benzoic acid starting to dissolve\n",
       "benzoic acid | discobutylmine (9 drops) | miscible     | mostly dissolved, clear, liquidy"
      ]
     },
     "execution_count": 14,
     "metadata": {},
     "output_type": "execute_result"
    }
   ],
   "source": [
    "# EXAMPLE 2- sample table from CHEM 3A Lab\n",
    "\n",
    "t = Table().with_columns(['Solvent', [], 'Solute', [], 'Predict', [], 'Observations', []])\n",
    "\n",
    "# function to add a row with Station #, Heart Rate, Ps, Pd to the table\n",
    "def addData(solvent, solute, predict, obsv):\n",
    "    t.append([solvent, solute, predict, obsv])\n",
    "\n",
    "# student uses function addData to add information to the table\n",
    "addData(\"benzoic acid\", \"disobutylmine (9 drops)\", \"not miscible\", \"no change\")\n",
    "addData(\"benzoic acid\", \"disobutylmine (9 drops)\", \"miscible\", \"benzoic acid starting to dissolve\")\n",
    "addData(\"benzoic acid\", \"discobutylmine (9 drops)\", \"miscible\", \"mostly dissolved, clear, liquidy\")\n",
    "\n",
    "t\n"
   ]
  },
  {
   "cell_type": "code",
   "execution_count": null,
   "metadata": {},
   "outputs": [],
   "source": []
  }
 ],
 "metadata": {
  "kernelspec": {
   "display_name": "Python 3",
   "language": "python",
   "name": "python3"
  },
  "language_info": {
   "codemirror_mode": {
    "name": "ipython",
    "version": 3
   },
   "file_extension": ".py",
   "mimetype": "text/x-python",
   "name": "python",
   "nbconvert_exporter": "python",
   "pygments_lexer": "ipython3",
   "version": "3.6.5"
  }
 },
 "nbformat": 4,
 "nbformat_minor": 2
}
